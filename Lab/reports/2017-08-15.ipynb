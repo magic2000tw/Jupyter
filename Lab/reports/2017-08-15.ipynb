{
 "cells": [
  {
   "cell_type": "markdown",
   "metadata": {
    "slideshow": {
     "slide_type": "-"
    }
   },
   "source": [
    "# 旅遊網站資料\n",
    "\n",
    "### - [美國官方旅遊統計](http://tinet.ita.doc.gov/)\n",
    "### - [英國官方旅遊統計](https://www.visitbritain.org/latest-quarterly-data-uk-overall)\n",
    "### - [日本官方旅遊統計](https://www.tourism.jp/en/tourism-database/stats/)"
   ]
  },
  {
   "cell_type": "markdown",
   "metadata": {},
   "source": [
    "# PyTorch\n",
    "\n",
    "### - Facebook 開發，為Torch(使用Lua編寫)的Python版本\n",
    "### - 2017/1 正式開源\n",
    "### - 支援動態Graph模型\n",
    "### - [詳細說明](https://www.hksilicon.com/articles/1332093)"
   ]
  },
  {
   "cell_type": "markdown",
   "metadata": {},
   "source": [
    "# [Stanford Deep Learning Open Lecures](https://www.youtube.com/user/stanfordeng/videos)\n",
    "\n"
   ]
  }
 ],
 "metadata": {
  "kernelspec": {
   "display_name": "Python 3",
   "language": "python",
   "name": "python3"
  },
  "language_info": {
   "codemirror_mode": {
    "name": "ipython",
    "version": 3
   },
   "file_extension": ".py",
   "mimetype": "text/x-python",
   "name": "python",
   "nbconvert_exporter": "python",
   "pygments_lexer": "ipython3",
   "version": "3.6.1"
  }
 },
 "nbformat": 4,
 "nbformat_minor": 2
}
